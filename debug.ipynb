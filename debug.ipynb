{
 "cells": [
  {
   "cell_type": "code",
   "execution_count": 16,
   "metadata": {},
   "outputs": [],
   "source": [
    "import rumour_scraper"
   ]
  },
  {
   "cell_type": "code",
   "execution_count": 17,
   "metadata": {},
   "outputs": [
    {
     "name": "stdout",
     "output_type": "stream",
     "text": [
      "event None context None\n",
      "testing123\n",
      "scraping links\n",
      "https://www.oddschecker.com/football/football-specials/christian-eriksen/club-after-january-transfer-window \n",
      " 1/9 \n",
      "\n",
      "https://www.oddschecker.com/football/football-specials/jesse-lingard/club-after-january-transfer-window \n",
      " 2/9 \n",
      "\n",
      "https://www.oddschecker.com/football/football-specials/kylian-mbappe/club-after-january-transfer-window \n",
      " 3/9 \n",
      "\n",
      "https://www.oddschecker.com/football/football-specials/joshua-king/club-after-summer-transfer-window \n",
      " 4/9 \n",
      "\n",
      "https://www.oddschecker.com/football/football-specials/jadon-sancho/club-after-january-transfer-window \n",
      " 5/9 \n",
      "\n",
      "https://www.oddschecker.com/football/football-specials/cristiano-ronaldo/club-after-summer-transfer-window \n",
      " 6/9 \n",
      "\n",
      "https://www.oddschecker.com/football/football-specials/jack-grealish/club-after-january-transfer-window \n",
      " 7/9 \n",
      "\n",
      "https://www.oddschecker.com/football/football-specials/declan-rice/club-after-january-transfer-window \n",
      " 8/9 \n",
      "\n",
      "https://www.oddschecker.com/football/football-specials/mesut-ozil/club-after-january-transfer-window \n",
      " 9/9 \n",
      "\n",
      "making charts\n",
      "finished\n"
     ]
    },
    {
     "data": {
      "text/plain": [
       "'success'"
      ]
     },
     "execution_count": 17,
     "metadata": {},
     "output_type": "execute_result"
    }
   ],
   "source": [
    "rumour_scraper.lambda_handler()"
   ]
  },
  {
   "cell_type": "code",
   "execution_count": null,
   "metadata": {},
   "outputs": [],
   "source": []
  }
 ],
 "metadata": {
  "kernelspec": {
   "display_name": "Python 3",
   "language": "python",
   "name": "python3"
  },
  "language_info": {
   "codemirror_mode": {
    "name": "ipython",
    "version": 3
   },
   "file_extension": ".py",
   "mimetype": "text/x-python",
   "name": "python",
   "nbconvert_exporter": "python",
   "pygments_lexer": "ipython3",
   "version": "3.7.6"
  }
 },
 "nbformat": 4,
 "nbformat_minor": 4
}
