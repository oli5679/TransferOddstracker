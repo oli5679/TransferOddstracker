{
 "cells": [
  {
   "cell_type": "code",
   "execution_count": 1,
   "metadata": {},
   "outputs": [],
   "source": [
    "from selenium import webdriver\n",
    "from selenium.webdriver.firefox.options import Options as FF_Options\n",
    "import pandas as pd\n",
    "from time import sleep\n",
    "import seaborn as sns\n",
    "import matplotlib.pyplot as plt\n",
    "import numpy as np\n",
    "from datetime import datetime\n",
    "from IPython.display import clear_output"
   ]
  },
  {
   "cell_type": "code",
   "execution_count": 2,
   "metadata": {},
   "outputs": [],
   "source": [
    "sns.set_style('whitegrid')"
   ]
  },
  {
   "cell_type": "code",
   "execution_count": 3,
   "metadata": {},
   "outputs": [],
   "source": [
    "class link_scraper():\n",
    "    def __init__(self, headless=True):\n",
    "        options = FF_Options()\n",
    "        if headless: options.add_argument(\"--headless\")\n",
    "        self.driver = webdriver.Firefox(options=options)\n",
    "        self.transfer_df = pd.DataFrame()\n",
    "    \n",
    "    def _parse_odds(self,odds_val):\n",
    "        odds_str = str(odds_val)\n",
    "        if '/' in odds_str:\n",
    "            num, denom = odds_str.split('/')\n",
    "            return int(num) / int(denom)\n",
    "        else:\n",
    "            try:\n",
    "                return float(odds_str)\n",
    "            except:\n",
    "                return np.nan\n",
    "    \n",
    "    def _parse_link(self, link):\n",
    "        self.driver.get(link)\n",
    "        tables = pd.read_html(self.driver.page_source)\n",
    "        # Odds table seems to be last table on page\n",
    "        odds_df = tables[-1]\n",
    "        # Remove crazy long column names\n",
    "        odds_df.columns = [''] * len(odds_df.columns)\n",
    "        # Transpose - clubs along axis\n",
    "        clean_df = odds_df.T.rename(columns=odds_df.T.iloc[0])\n",
    "        # Calculate lowest odds - most likely\n",
    "        long_df = pd.DataFrame(clean_df.applymap(self._parse_odds).min()).reset_index()\n",
    "        # Add in column names, including player name\n",
    "        long_df.columns = ['destination', 'odds']\n",
    "        long_df['player'] = link.split('/')[-2].replace('-',' ').title()\n",
    "        # add probability and date\n",
    "        long_df['probability'] = 1 / (1 + long_df['odds'])\n",
    "        long_df['date'] = datetime.now().date()\n",
    "        self.transfer_df = self.transfer_df.append(long_df, sort=False)\n",
    "        \n",
    "    def _get_links(self):\n",
    "        url = 'https://www.oddschecker.com/football/football-specials'\n",
    "        self.driver.get(url)\n",
    "        sleep(1)\n",
    "        #Sometimes there is annoying popup\n",
    "        try:\n",
    "            driver.find_element_by_xpath('//*[@id=\"promo-modal\"]/div[1]/div/div/div[5]/a').click()\n",
    "        except:\n",
    "            pass\n",
    "        sleep(1)\n",
    "        #Find the transfer rumours\n",
    "        markets = self.driver.find_element_by_xpath('//*[@id=\"outrights\"]/div/ul').find_elements_by_tag_name('li')\n",
    "        links = [m.find_element_by_tag_name('a').get_attribute('href') for m in markets]\n",
    "        self.transfer_links = [l for l in links if  'club-after-summer-transfer-window' in l]\n",
    "        \n",
    "    def get_and_parse_all_links(self):\n",
    "        try:\n",
    "            self._get_links()\n",
    "            for i, l in enumerate(self.transfer_links):\n",
    "                clear_output()\n",
    "                print(f'{l} \\n {i+1}/{len(self.transfer_links)} \\n')\n",
    "                self._parse_link(l)\n",
    "                # Append to df\n",
    "            return self.transfer_df\n",
    "        except Exception as e:            \n",
    "            raise e\n",
    "        finally:\n",
    "            self.driver.quit()"
   ]
  },
  {
   "cell_type": "code",
   "execution_count": 4,
   "metadata": {},
   "outputs": [
    {
     "name": "stdout",
     "output_type": "stream",
     "text": [
      "https://www.oddschecker.com/football/player-specials/kylian-mbappe/club-after-summer-transfer-window \n",
      " 85/85 \n",
      "\n"
     ]
    }
   ],
   "source": [
    "ls = link_scraper()\n",
    "combined_df = ls.get_and_parse_all_links()"
   ]
  },
  {
   "cell_type": "markdown",
   "metadata": {},
   "source": [
    "## Plotting"
   ]
  },
  {
   "cell_type": "markdown",
   "metadata": {},
   "source": [
    "plotting functions, by club and by player"
   ]
  },
  {
   "cell_type": "code",
   "execution_count": null,
   "metadata": {},
   "outputs": [],
   "source": [
    "def make_bar_chart(df,filter_var,y_var ,filter_val, title ,show_flag=False):\n",
    "    filter_df = df.loc[(df[filter_var]==filter_val) &\n",
    "                             (df.probability > 0)].sort_values(by='probability',ascending=False)\n",
    "    if filter_df.shape[0] > 2:\n",
    "        plt.subplots(figsize=(20,15))\n",
    "        ax = sns.barplot(data=filter_df,y=y_var,x='probability',orient='h')\n",
    "        locs, labels = plt.xticks()\n",
    "        plt.setp(labels, rotation=90)\n",
    "        ax.set_title(title,{'fontsize':20})\n",
    "        plt.savefig(f'output/{filter_var}s/{filter_val}.png')\n",
    "        if show_flag: plt.show()\n",
    "        plt.close()"
   ]
  },
  {
   "cell_type": "code",
   "execution_count": null,
   "metadata": {},
   "outputs": [],
   "source": [
    "def plot_most_likely(df, n):\n",
    "    most_likely = (combined_df\n",
    "                   .loc[~combined_df.destination.str.contains('To Stay|To Leave|Any')]\n",
    "                   .sort_values(by='probability',ascending=False)\n",
    "                   .head(n))\n",
    "    most_likely['transfer'] = most_likely.player + ' - ' + most_likely['destination']\n",
    "    plt.subplots(figsize=(20,15))\n",
    "    ax = sns.barplot(data=most_likely,y='transfer',x='probability',orient='h')\n",
    "    ax.set_title(f'{n} most likely Transfers \\n',{'fontsize':20})\n",
    "    plt.savefig(f'output/{n} most likely overall.png')"
   ]
  },
  {
   "cell_type": "code",
   "execution_count": null,
   "metadata": {},
   "outputs": [],
   "source": [
    "!rm -rf output/players\n",
    "!rm -rf output/destinations\n",
    "!mkdir output/players\n",
    "!mkdir output/destinations"
   ]
  },
  {
   "cell_type": "code",
   "execution_count": null,
   "metadata": {},
   "outputs": [],
   "source": [
    "for dest in combined_df.loc[~combined_df.destination.str.contains('To Stay|To Leave|Any')\n",
    "                            ,'destination'].unique():\n",
    "    make_bar_chart(df=combined_df,\n",
    "                   filter_var='destination',\n",
    "                   y_var='player',\n",
    "                   filter_val=dest,\n",
    "                   title=f'{dest} Transfer Targets \\n')"
   ]
  },
  {
   "cell_type": "code",
   "execution_count": null,
   "metadata": {},
   "outputs": [],
   "source": [
    "for player in combined_df.player.unique():\n",
    "     make_bar_chart(df=combined_df,\n",
    "                   filter_var='player',\n",
    "                   y_var='destination',\n",
    "                   filter_val=player,\n",
    "                   title=f'{player} Destinations \\n')"
   ]
  },
  {
   "cell_type": "code",
   "execution_count": null,
   "metadata": {},
   "outputs": [],
   "source": [
    "plot_most_likely(combined_df, 30)"
   ]
  },
  {
   "cell_type": "code",
   "execution_count": null,
   "metadata": {},
   "outputs": [],
   "source": [
    "combined_df.to_csv(f'output/data/{datetime.now().date()}.csv')\n",
    "print(datetime.now())"
   ]
  }
 ],
 "metadata": {
  "kernelspec": {
   "display_name": "Python 3",
   "language": "python",
   "name": "python3"
  },
  "language_info": {
   "codemirror_mode": {
    "name": "ipython",
    "version": 3
   },
   "file_extension": ".py",
   "mimetype": "text/x-python",
   "name": "python",
   "nbconvert_exporter": "python",
   "pygments_lexer": "ipython3",
   "version": "3.7.3"
  }
 },
 "nbformat": 4,
 "nbformat_minor": 2
}
