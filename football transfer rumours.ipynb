{
 "cells": [
  {
   "cell_type": "code",
   "execution_count": null,
   "metadata": {},
   "outputs": [],
   "source": [
    "from selenium import webdriver\n",
    "from selenium.webdriver.chrome.options import Options\n",
    "import pandas as pd\n",
    "import os\n",
    "from time import sleep\n",
    "import seaborn as sns\n",
    "import matplotlib.pyplot as plt\n",
    "import numpy as np\n",
    "sns.set_style('whitegrid')\n",
    "import re"
   ]
  },
  {
   "cell_type": "markdown",
   "metadata": {},
   "source": [
    "## Scraper"
   ]
  },
  {
   "cell_type": "markdown",
   "metadata": {},
   "source": [
    "Create driver"
   ]
  },
  {
   "cell_type": "code",
   "execution_count": null,
   "metadata": {},
   "outputs": [],
   "source": [
    "chrome_options = Options()\n",
    "#chrome_options.add_argument('--headless')\n",
    "chrome_options.add_argument('--window-size=1920x1080')\n",
    "driver = webdriver.Chrome(options=chrome_options)\n"
   ]
  },
  {
   "cell_type": "markdown",
   "metadata": {},
   "source": [
    "Go to oddschecker website"
   ]
  },
  {
   "cell_type": "code",
   "execution_count": null,
   "metadata": {},
   "outputs": [],
   "source": [
    "url = 'https://www.oddschecker.com/football/football-specials'\n",
    "driver.get(url)"
   ]
  },
  {
   "cell_type": "markdown",
   "metadata": {},
   "source": [
    "Sometimes there is annoying popup"
   ]
  },
  {
   "cell_type": "code",
   "execution_count": null,
   "metadata": {},
   "outputs": [],
   "source": [
    "try:\n",
    "    driver.find_element_by_xpath('//*[@id=\"promo-modal\"]/div[1]/div/div/div[5]/a').click()\n",
    "except:\n",
    "    print('no popup')\n",
    "sleep(1)"
   ]
  },
  {
   "cell_type": "markdown",
   "metadata": {},
   "source": [
    "Find the transfer rumours\n"
   ]
  },
  {
   "cell_type": "code",
   "execution_count": null,
   "metadata": {},
   "outputs": [],
   "source": [
    "fixtures = driver.find_element_by_xpath('//*[@id=\"outrights\"]/div/ul')\n",
    "markets = fixtures.find_elements_by_tag_name('li')\n",
    "links = [m.find_element_by_tag_name('a').get_attribute('href') for m in markets]\n",
    "transfer_links = [l for l in links if  'club-after-summer-transfer-window' in l]"
   ]
  },
  {
   "cell_type": "markdown",
   "metadata": {},
   "source": [
    "Helper method for parsing odds string (including fractions)"
   ]
  },
  {
   "cell_type": "code",
   "execution_count": null,
   "metadata": {},
   "outputs": [],
   "source": [
    "def parse_odds(x):\n",
    "    x_str = str(x)\n",
    "    if '/' in x_str:\n",
    "        num, denom = x_str.split('/')\n",
    "        return int(num) / int(denom)\n",
    "    else:\n",
    "        try:\n",
    "            return int(x)\n",
    "        except:\n",
    "            return np.nan"
   ]
  },
  {
   "cell_type": "markdown",
   "metadata": {},
   "source": [
    "Scrape all transfer rumours"
   ]
  },
  {
   "cell_type": "code",
   "execution_count": null,
   "metadata": {},
   "outputs": [],
   "source": [
    "combined_df = pd.DataFrame()"
   ]
  },
  {
   "cell_type": "code",
   "execution_count": null,
   "metadata": {},
   "outputs": [],
   "source": [
    "for i, l in enumerate(transfer_links):\n",
    "    print(l, end=\"\")\n",
    "    print()\n",
    "    print(f'{i}/{len(transfer_links)}')\n",
    "    print()\n",
    "    sleep(1)\n",
    "    driver.get(l)\n",
    "    tables = pd.read_html(driver.page_source)\n",
    "    # Odds table seems to be last table on page\n",
    "    odds_df = tables[-1]\n",
    "    # Remove crazy long column names\n",
    "    odds_df.columns = [''] * len(odds_df.columns)\n",
    "    # Transpose - clubs along axis\n",
    "    clean_df = odds_df.T.rename(columns=odds_df.T.iloc[0])\n",
    "    # Calculate lowest odds - most likely\n",
    "    long_df = pd.DataFrame(clean_df.applymap(parse_odds).min()).reset_index()\n",
    "    # Add in column names, including player name\n",
    "    long_df.columns = ['destination', 'odds']\n",
    "    long_df['player'] = l.split('/')[-2].replace('-',' ').title()\n",
    "    # Append to df\n",
    "    combined_df = combined_df.append(long_df,sort=False)"
   ]
  },
  {
   "cell_type": "code",
   "execution_count": null,
   "metadata": {},
   "outputs": [],
   "source": [
    "combined_df['probability'] = 1 / (1 + combined_df['odds'])"
   ]
  },
  {
   "cell_type": "markdown",
   "metadata": {},
   "source": [
    "## Plotting"
   ]
  },
  {
   "cell_type": "markdown",
   "metadata": {},
   "source": [
    "plotting functions, by club and by player"
   ]
  },
  {
   "cell_type": "code",
   "execution_count": null,
   "metadata": {},
   "outputs": [],
   "source": [
    "def get_player_destinations(df,player):\n",
    "    club_df = df.loc[(df.player==player) &\n",
    "                             (df.probability > 0)].sort_values(by='probability',ascending=False)\n",
    "    \n",
    "    plt.subplots(figsize=(20,15))\n",
    "    ax = sns.barplot(data=club_df,y='destination',x='probability',orient='h')\n",
    "    locs, labels = plt.xticks()\n",
    "    plt.setp(labels, rotation=90)\n",
    "    ax.set_title(f'{player} Destinations \\n',{'fontsize':20})\n",
    "    plt.savefig(f'output/players/{player}.png')"
   ]
  },
  {
   "cell_type": "code",
   "execution_count": null,
   "metadata": {},
   "outputs": [],
   "source": [
    "def get_club_targets(df,club):\n",
    "    club_df = df.loc[(df.destination==club) &\n",
    "                             (df.probability > 0)].sort_values(by='probability',ascending=False)\n",
    "    plt.subplots(figsize=(20,15))\n",
    "    ax = sns.barplot(data=club_df,y='player',x='probability',orient='h')\n",
    "    ax.set_title(f'{club} Transfer Targets \\n',{'fontsize':20})\n",
    "    plt.savefig(f'output/clubs/{club}.png')"
   ]
  },
  {
   "cell_type": "code",
   "execution_count": null,
   "metadata": {},
   "outputs": [],
   "source": [
    "for club in ['Arsenal','Chelsea','Real Madrid', 'PSG', 'Barcelona','Man City','Man Utd','West Ham','Juventus']:\n",
    "    get_club_targets(combined_df,club)"
   ]
  },
  {
   "cell_type": "code",
   "execution_count": null,
   "metadata": {},
   "outputs": [],
   "source": [
    "for player in ['Eden Hazard','Adrian Rabiot','David De Gea', 'Matthijs De Ligt','Gareth Bale', 'Kylian Mbappe','Koulibaly Kalidou','Neymar',\n",
    "              'Jadon Sancho','Alexis Sanchez']:\n",
    "    get_player_destinations(combined_df,player)"
   ]
  },
  {
   "cell_type": "code",
   "execution_count": null,
   "metadata": {},
   "outputs": [],
   "source": [
    "most_likely = combined_df.loc[~combined_df.destination.str.contains('To Stay|To Leave|Any')].sort_values(by='probability',ascending=False).head(30)\n",
    "most_likely['transfer'] = most_likely.player + ' - ' + most_likely['destination']\n",
    "plt.subplots(figsize=(20,15))\n",
    "ax = sns.barplot(data=most_likely,y='transfer',x='probability',orient='h')\n",
    "ax.set_title('30 most likely Transfers \\n',{'fontsize':20})\n",
    "plt.savefig(f'output/most likely overall.png')"
   ]
  },
  {
   "cell_type": "code",
   "execution_count": null,
   "metadata": {},
   "outputs": [],
   "source": []
  }
 ],
 "metadata": {
  "kernelspec": {
   "display_name": "Python 3",
   "language": "python",
   "name": "python3"
  },
  "language_info": {
   "codemirror_mode": {
    "name": "ipython",
    "version": 3
   },
   "file_extension": ".py",
   "mimetype": "text/x-python",
   "name": "python",
   "nbconvert_exporter": "python",
   "pygments_lexer": "ipython3",
   "version": "3.7.1"
  }
 },
 "nbformat": 4,
 "nbformat_minor": 2
}
