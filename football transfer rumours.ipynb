{
 "cells": [
  {
   "cell_type": "code",
   "execution_count": 1,
   "metadata": {},
   "outputs": [],
   "source": [
    "from selenium import webdriver\n",
    "from selenium.webdriver.chrome.options import Options\n",
    "import pandas as pd\n",
    "import os\n",
    "from time import sleep\n",
    "import seaborn as sns\n",
    "import matplotlib.pyplot as plt\n",
    "import numpy as np\n",
    "sns.set_style('whitegrid')\n",
    "import re\n",
    "from datetime import datetime"
   ]
  },
  {
   "cell_type": "markdown",
   "metadata": {},
   "source": [
    "## Scraper"
   ]
  },
  {
   "cell_type": "markdown",
   "metadata": {},
   "source": [
    "Create driver"
   ]
  },
  {
   "cell_type": "code",
   "execution_count": 2,
   "metadata": {},
   "outputs": [],
   "source": [
    "chrome_options = Options()\n",
    "#chrome_options.add_argument('--headless')\n",
    "chrome_options.add_argument('--window-size=1920x1080')\n",
    "driver = webdriver.Chrome(options=chrome_options)\n"
   ]
  },
  {
   "cell_type": "markdown",
   "metadata": {},
   "source": [
    "Go to oddschecker website"
   ]
  },
  {
   "cell_type": "code",
   "execution_count": 3,
   "metadata": {},
   "outputs": [],
   "source": [
    "url = 'https://www.oddschecker.com/football/football-specials'\n",
    "driver.get(url)"
   ]
  },
  {
   "cell_type": "markdown",
   "metadata": {},
   "source": [
    "Sometimes there is annoying popup"
   ]
  },
  {
   "cell_type": "code",
   "execution_count": 4,
   "metadata": {},
   "outputs": [],
   "source": [
    "try:\n",
    "    driver.find_element_by_xpath('//*[@id=\"promo-modal\"]/div[1]/div/div/div[5]/a').click()\n",
    "except:\n",
    "    print('no popup')\n",
    "sleep(1)"
   ]
  },
  {
   "cell_type": "markdown",
   "metadata": {},
   "source": [
    "Find the transfer rumours\n"
   ]
  },
  {
   "cell_type": "code",
   "execution_count": 5,
   "metadata": {},
   "outputs": [],
   "source": [
    "fixtures = driver.find_element_by_xpath('//*[@id=\"outrights\"]/div/ul')\n",
    "markets = fixtures.find_elements_by_tag_name('li')\n",
    "links = [m.find_element_by_tag_name('a').get_attribute('href') for m in markets]\n",
    "transfer_links = [l for l in links if  'club-after-summer-transfer-window' in l]"
   ]
  },
  {
   "cell_type": "markdown",
   "metadata": {},
   "source": [
    "Helper method for parsing odds string (including fractions)"
   ]
  },
  {
   "cell_type": "code",
   "execution_count": 6,
   "metadata": {},
   "outputs": [],
   "source": [
    "def parse_odds(x):\n",
    "    x_str = str(x)\n",
    "    if '/' in x_str:\n",
    "        num, denom = x_str.split('/')\n",
    "        return int(num) / int(denom)\n",
    "    else:\n",
    "        try:\n",
    "            return int(x)\n",
    "        except:\n",
    "            return np.nan"
   ]
  },
  {
   "cell_type": "markdown",
   "metadata": {},
   "source": [
    "Scrape all transfer rumours"
   ]
  },
  {
   "cell_type": "code",
   "execution_count": 8,
   "metadata": {},
   "outputs": [],
   "source": [
    "combined_df = pd.DataFrame()"
   ]
  },
  {
   "cell_type": "code",
   "execution_count": 9,
   "metadata": {},
   "outputs": [
    {
     "name": "stdout",
     "output_type": "stream",
     "text": [
      "https://www.oddschecker.com/football/player-specials/sadio-mane/club-after-summer-transfer-window\n",
      "1/84\n",
      "\n",
      "https://www.oddschecker.com/football/player-specials/aaron-mooy/club-after-summer-transfer-window\n",
      "2/84\n",
      "\n",
      "https://www.oddschecker.com/football/player-specials/aaron-wan-bissaka/club-after-summer-transfer-window\n",
      "3/84\n",
      "\n",
      "https://www.oddschecker.com/football/player-specials/adrian-rabiot/club-after-summer-transfer-window\n",
      "4/84\n",
      "\n",
      "https://www.oddschecker.com/football/player-specials/aleksandar-mitrovic/club-after-summer-transfer-window\n",
      "5/84\n",
      "\n",
      "https://www.oddschecker.com/football/player-specials/alex-telles/club-after-summer-transfer-window\n",
      "6/84\n",
      "\n",
      "https://www.oddschecker.com/football/player-specials/alexis-sanchez/club-after-summer-transfer-window\n",
      "7/84\n",
      "\n",
      "https://www.oddschecker.com/football/player-specials/alfredo-morelos/club-after-summer-transfer-window\n",
      "8/84\n",
      "\n",
      "https://www.oddschecker.com/football/player-specials/antoine-griezmann/club-after-summer-transfer-window\n",
      "9/84\n",
      "\n",
      "https://www.oddschecker.com/football/player-specials/asmir-begovic/club-after-summer-transfer-window\n",
      "10/84\n",
      "\n",
      "https://www.oddschecker.com/football/player-specials/callum-hudson-odoi/club-after-summer-transfer-window\n",
      "11/84\n",
      "\n",
      "https://www.oddschecker.com/football/player-specials/cengiz-under/club-after-summer-transfer-window\n",
      "12/84\n",
      "\n",
      "https://www.oddschecker.com/football/player-specials/che-adams/club-after-summer-transfer-window\n",
      "13/84\n",
      "\n",
      "https://www.oddschecker.com/football/player-specials/christian-eriksen/club-after-summer-transfer-window\n",
      "14/84\n",
      "\n",
      "https://www.oddschecker.com/football/player-specials/cristiano-ronaldo/club-after-summer-transfer-window\n",
      "15/84\n",
      "\n",
      "https://www.oddschecker.com/football/player-specials/daniele-rugani/club-after-summer-transfer-window\n",
      "16/84\n",
      "\n",
      "https://www.oddschecker.com/football/player-specials/danny-drinkwater/club-after-summer-transfer-window\n",
      "17/84\n",
      "\n",
      "https://www.oddschecker.com/football/player-specials/david-alaba/club-after-summer-transfer-window\n",
      "18/84\n",
      "\n",
      "https://www.oddschecker.com/football/player-specials/david-brooks/club-after-summer-transfer-window\n",
      "19/84\n",
      "\n",
      "https://www.oddschecker.com/football/player-specials/david-de-gea/club-after-summer-transfer-window\n",
      "20/84\n",
      "\n",
      "https://www.oddschecker.com/football/player-specials/david-neres/club-after-summer-transfer-window\n",
      "21/84\n",
      "\n",
      "https://www.oddschecker.com/football/player-specials/dayot-upamecano/club-after-summer-transfer-window\n",
      "22/84\n",
      "\n",
      "https://www.oddschecker.com/football/player-specials/diogo-jota/club-after-summer-transfer-window\n",
      "23/84\n",
      "\n",
      "https://www.oddschecker.com/football/player-specials/donny-van-de-beek/club-after-summer-transfer-window\n",
      "24/84\n",
      "\n",
      "https://www.oddschecker.com/football/player-specials/douglas-costa/club-after-summer-transfer-window\n",
      "25/84\n",
      "\n",
      "https://www.oddschecker.com/football/player-specials/eden-hazard/club-after-summer-transfer-window\n",
      "26/84\n",
      "\n",
      "https://www.oddschecker.com/football/player-specials/giovani-lo-celso/club-after-summer-transfer-window\n",
      "27/84\n",
      "\n",
      "https://www.oddschecker.com/football/player-specials/gonzalo-higuain/club-after-summer-transfer-window\n",
      "28/84\n",
      "\n",
      "https://www.oddschecker.com/football/player-specials/hakim-ziyech/club-after-summer-transfer-window\n",
      "29/84\n",
      "\n",
      "https://www.oddschecker.com/football/player-specials/harry-maguire/club-after-summer-transfer-window\n",
      "30/84\n",
      "\n",
      "https://www.oddschecker.com/football/player-specials/isco/club-after-summer-transfer-window\n",
      "31/84\n",
      "\n",
      "https://www.oddschecker.com/football/player-specials/ivan-perisic/club-after-summer-transfer-window\n",
      "32/84\n",
      "\n",
      "https://www.oddschecker.com/football/player-specials/jack-grealish/club-after-summer-transfer-window\n",
      "33/84\n",
      "\n",
      "https://www.oddschecker.com/football/player-specials/jadon-sancho/club-after-summer-transfer-window\n",
      "34/84\n",
      "\n",
      "https://www.oddschecker.com/football/player-specials/james-rodriguez/club-after-summer-transfer-window\n",
      "35/84\n",
      "\n",
      "https://www.oddschecker.com/football/player-specials/james-tarkowski/club-after-summer-transfer-window\n",
      "36/84\n",
      "\n",
      "https://www.oddschecker.com/football/player-specials/joao-felix/club-after-summer-transfer-window\n",
      "37/84\n",
      "\n",
      "https://www.oddschecker.com/football/player-specials/jonjo-shelvey/club-after-summer-transfer-window\n",
      "38/84\n",
      "\n",
      "https://www.oddschecker.com/football/player-specials/jordi-alba/club-after-summer-transfer-window\n",
      "39/84\n",
      "\n",
      "https://www.oddschecker.com/football/player-specials/kai-havertz/club-after-summer-transfer-window\n",
      "40/84\n",
      "\n",
      "https://www.oddschecker.com/football/player-specials/kieran-trippier/club-after-summer-transfer-window\n",
      "41/84\n",
      "\n",
      "https://www.oddschecker.com/football/player-specials/kostas-manolas/club-after-summer-transfer-window\n",
      "42/84\n",
      "\n",
      "https://www.oddschecker.com/football/player-specials/koulibaly-kalidou/club-after-summer-transfer-window\n",
      "43/84\n",
      "\n",
      "https://www.oddschecker.com/football/player-specials/lorenzo-insigne/club-after-summer-transfer-window\n",
      "44/84\n",
      "\n",
      "https://www.oddschecker.com/football/player-specials/mason-mount/club-after-summer-transfer-window\n",
      "45/84\n",
      "\n",
      "https://www.oddschecker.com/football/player-specials/matthias-ginter/club-after-summer-transfer-window\n",
      "46/84\n",
      "\n",
      "https://www.oddschecker.com/football/player-specials/mauro-icardi/club-after-summer-transfer-window\n",
      "47/84\n",
      "\n",
      "https://www.oddschecker.com/football/player-specials/memphis-depay/club-after-summer-transfer-window\n",
      "48/84\n",
      "\n",
      "https://www.oddschecker.com/football/player-specials/milan-skriniar/club-after-summer-transfer-window\n",
      "49/84\n",
      "\n",
      "https://www.oddschecker.com/football/player-specials/miralem-pjanic/club-after-summer-transfer-window\n",
      "50/84\n",
      "\n",
      "https://www.oddschecker.com/football/player-specials/mo-diame/club-after-summer-transfer-window\n",
      "51/84\n",
      "\n",
      "https://www.oddschecker.com/football/player-specials/mohamed-elneny/club-after-summer-transfer-window\n",
      "52/84\n",
      "\n",
      "https://www.oddschecker.com/football/player-specials/nabil-fekir/club-after-summer-transfer-window\n",
      "53/84\n",
      "\n",
      "https://www.oddschecker.com/football/player-specials/naby-keita/club-after-summer-transfer-window\n",
      "54/84\n",
      "\n",
      "https://www.oddschecker.com/football/player-specials/nacho-fernandez/club-after-summer-transfer-window\n",
      "55/84\n",
      "\n",
      "https://www.oddschecker.com/football/player-specials/neymar/club-after-summer-transfer-window\n",
      "56/84\n",
      "\n",
      "https://www.oddschecker.com/football/player-specials/nicholas-pepe/club-after-summer-transfer-window\n",
      "57/84\n",
      "\n",
      "https://www.oddschecker.com/football/player-specials/nick-pope/club-after-summer-transfer-window\n",
      "58/84\n",
      "\n",
      "https://www.oddschecker.com/football/player-specials/nicolas-tagliafico/club-after-summer-transfer-window\n",
      "59/84\n",
      "\n",
      "https://www.oddschecker.com/football/player-specials/nicolo-barella/club-after-summer-transfer-window\n",
      "60/84\n",
      "\n",
      "https://www.oddschecker.com/football/player-specials/olivier-giroud/club-after-summer-transfer-window\n",
      "61/84\n",
      "\n",
      "https://www.oddschecker.com/football/player-specials/paulo-dybala/club-after-summer-transfer-window\n",
      "62/84\n",
      "\n",
      "https://www.oddschecker.com/football/player-specials/philippe-coutinho/club-after-summer-transfer-window\n",
      "63/84\n",
      "\n",
      "https://www.oddschecker.com/football/player-specials/raphael-varane/club-after-summer-transfer-window\n",
      "64/84\n",
      "\n",
      "https://www.oddschecker.com/football/player-specials/ruben-neves/club-after-summer-transfer-window\n",
      "65/84\n",
      "\n",
      "https://www.oddschecker.com/football/player-specials/ryan-sessegnon/club-after-summer-transfer-window\n",
      "66/84\n",
      "\n",
      "https://www.oddschecker.com/football/player-specials/saul-niguez/club-after-summer-transfer-window\n",
      "67/84\n",
      "\n",
      "https://www.oddschecker.com/football/player-specials/steven-bergwijn/club-after-summer-transfer-window\n",
      "68/84\n",
      "\n",
      "https://www.oddschecker.com/football/player-specials/tanguy-ndombele/club-after-summer-transfer-window\n",
      "69/84\n",
      "\n",
      "https://www.oddschecker.com/football/player-specials/thomas-partey/club-after-summer-transfer-window\n",
      "70/84\n",
      "\n",
      "https://www.oddschecker.com/football/player-specials/thomas-strakosha/club-after-summer-transfer-window\n",
      "71/84\n",
      "\n",
      "https://www.oddschecker.com/football/player-specials/toby-alderweireld/club-after-summer-transfer-window\n",
      "72/84\n",
      "\n",
      "https://www.oddschecker.com/football/player-specials/toni-kroos/club-after-summer-transfer-window\n",
      "73/84\n",
      "\n",
      "https://www.oddschecker.com/football/player-specials/yannick-carrasco/club-after-summer-transfer-window\n",
      "74/84\n",
      "\n",
      "https://www.oddschecker.com/football/player-specials/daniel-james/club-after-summer-transfer-window\n",
      "75/84\n",
      "\n",
      "https://www.oddschecker.com/football/player-specials/declan-rice/club-after-summer-transfer-window\n",
      "76/84\n",
      "\n",
      "https://www.oddschecker.com/football/player-specials/kepa-arrizabalaga/club-after-summer-transfer-window\n",
      "77/84\n",
      "\n",
      "https://www.oddschecker.com/football/player-specials/kieran-tierney/club-after-summer-transfer-window\n",
      "78/84\n",
      "\n",
      "https://www.oddschecker.com/football/player-specials/matthijs-de-ligt/club-after-summer-transfer-window\n",
      "79/84\n",
      "\n",
      "https://www.oddschecker.com/football/player-specials/maxi-gomez/club-after-summer-transfer-window\n",
      "80/84\n",
      "\n",
      "https://www.oddschecker.com/football/player-specials/paul-pogba/club-after-summer-transfer-window\n",
      "81/84\n",
      "\n",
      "https://www.oddschecker.com/football/player-specials/wilfried-zaha/club-after-summer-transfer-window\n",
      "82/84\n",
      "\n",
      "https://www.oddschecker.com/football/player-specials/gareth-bale/club-after-summer-transfer-window\n",
      "83/84\n",
      "\n",
      "https://www.oddschecker.com/football/player-specials/kylian-mbappe/club-after-summer-transfer-window\n",
      "84/84\n",
      "\n"
     ]
    }
   ],
   "source": [
    "for i, l in enumerate(transfer_links):\n",
    "    print(l, end=\"\")\n",
    "    print()\n",
    "    print(f'{i+1}/{len(transfer_links)}')\n",
    "    print()\n",
    "    sleep(1)\n",
    "    driver.get(l)\n",
    "    tables = pd.read_html(driver.page_source)\n",
    "    # Odds table seems to be last table on page\n",
    "    odds_df = tables[-1]\n",
    "    # Remove crazy long column names\n",
    "    odds_df.columns = [''] * len(odds_df.columns)\n",
    "    # Transpose - clubs along axis\n",
    "    clean_df = odds_df.T.rename(columns=odds_df.T.iloc[0])\n",
    "    # Calculate lowest odds - most likely\n",
    "    long_df = pd.DataFrame(clean_df.applymap(parse_odds).min()).reset_index()\n",
    "    # Add in column names, including player name\n",
    "    long_df.columns = ['destination', 'odds']\n",
    "    long_df['player'] = l.split('/')[-2].replace('-',' ').title()\n",
    "    \n",
    "    # add probability and date\n",
    "    long_df['probability'] = 1 / (1 + long_df['odds'])\n",
    "    long_df['date'] = datetime.now().date()\n",
    "    # Append to df\n",
    "    combined_df = combined_df.append(long_df,sort=False)"
   ]
  },
  {
   "cell_type": "markdown",
   "metadata": {},
   "source": [
    "## Plotting"
   ]
  },
  {
   "cell_type": "markdown",
   "metadata": {},
   "source": [
    "plotting functions, by club and by player"
   ]
  },
  {
   "cell_type": "code",
   "execution_count": 11,
   "metadata": {},
   "outputs": [
    {
     "data": {
      "text/plain": [
       "array(['Real Madrid', 'PSG', 'Barcelona', 'West Ham', 'Any Scottish Club',\n",
       "       'Watford', 'Wolves', 'Newcastle', 'Any Italian Club',\n",
       "       'Any Spanish Club', 'Any French Club', 'Any German Club',\n",
       "       'Crystal Palace', 'Leicester', 'Leeds', 'Liverpool', 'Man Utd',\n",
       "       'Chelsea', 'Bayern Munich', 'Arsenal', 'Man City',\n",
       "       'Borussia Dortmund', 'Tottenham', 'Everton', 'AC Milan',\n",
       "       'Juventus', 'Inter Milan', 'Lyon', 'Marseille', 'Any Belgium Club',\n",
       "       'Any Chinese Club', 'Any Turkish Club', 'Southampton', 'Brighton',\n",
       "       'Atletico Madrid', 'Any South American Club', 'Any MLS Club',\n",
       "       'Bournemouth', 'To Leave Rangers', 'Any Chinese Super League side',\n",
       "       'Fenerbahce', 'Celtic', 'Galatasaray', 'Lille', 'Monaco',\n",
       "       'RB Leipzig', 'Bayer Leverkusen', 'Burnley', 'Any English Club',\n",
       "       'Roma', 'Sevilla', 'Napoli', 'Lazio', 'Derby', 'Norwich',\n",
       "       'Middlesbrough', 'Any Dutch Club', 'Sheffield Utd', 'Inter',\n",
       "       'To Leave Swansea',\n",
       "       'To Stay at Swansea (Does not include returning on loan following a permanent deal elsewhere)',\n",
       "       'Aston Villa', 'Cardiff',\n",
       "       'To Stay at Chelsea (Does not include returning on loan following a permanent deal elsewhere)',\n",
       "       'To Leave Chelsea', 'To Stay at Celtic', 'To Leave Celtic',\n",
       "       'Paris Saint-Germain'], dtype=object)"
      ]
     },
     "execution_count": 11,
     "metadata": {},
     "output_type": "execute_result"
    }
   ],
   "source": []
  },
  {
   "cell_type": "code",
   "execution_count": 27,
   "metadata": {},
   "outputs": [],
   "source": [
    "def get_player_destinations(df,player, show_flag=False):\n",
    "    player_df = df.loc[(df.player==player) &\n",
    "                             (df.probability > 0)].sort_values(by='probability',ascending=False)\n",
    "    if player_df.shape[0] > 2:\n",
    "        plt.subplots(figsize=(20,15))\n",
    "        ax = sns.barplot(data=player_df,y='destination',x='probability',orient='h')\n",
    "        locs, labels = plt.xticks()\n",
    "        plt.setp(labels, rotation=90)\n",
    "        ax.set_title(f'{player} Destinations \\n',{'fontsize':20})\n",
    "        plt.savefig(f'output/players/{player}.png')\n",
    "        if show_flag: plt.show()\n",
    "        plt.close()"
   ]
  },
  {
   "cell_type": "code",
   "execution_count": 22,
   "metadata": {},
   "outputs": [],
   "source": [
    "def get_club_targets(df,club, show_flag=False):\n",
    "    club_df = df.loc[(df.destination==club) &\n",
    "                             (df.probability > 0)].sort_values(by='probability',ascending=False)\n",
    "    plt.subplots(figsize=(20,15))\n",
    "    ax = sns.barplot(data=club_df,y='player',x='probability',orient='h')\n",
    "    ax.set_title(f'{club} Transfer Targets \\n',{'fontsize':20})\n",
    "    plt.savefig(f'output/clubs/{club}.png')\n",
    "    if show_flag: plt.show()\n",
    "    plt.close()"
   ]
  },
  {
   "cell_type": "code",
   "execution_count": 25,
   "metadata": {},
   "outputs": [],
   "source": [
    "!rm -rf output/players\n",
    "!rm -rf output/clubs\n",
    "!mkdir output/players\n",
    "!mkdir output/clubs"
   ]
  },
  {
   "cell_type": "code",
   "execution_count": 29,
   "metadata": {},
   "outputs": [
    {
     "data": {
      "text/plain": [
       "(891, 5)"
      ]
     },
     "execution_count": 29,
     "metadata": {},
     "output_type": "execute_result"
    }
   ],
   "source": [
    "combined_df.shape"
   ]
  },
  {
   "cell_type": "code",
   "execution_count": 26,
   "metadata": {},
   "outputs": [],
   "source": [
    "for club in combined_df.loc[~combined_df.destination.str.contains('To Stay|To Leave|Any')\n",
    "                            ,'destination'].unique():\n",
    "    get_club_targets(combined_df,club)"
   ]
  },
  {
   "cell_type": "code",
   "execution_count": 28,
   "metadata": {},
   "outputs": [],
   "source": [
    "for player in combined_df.player.unique():\n",
    "    get_player_destinations(combined_df,player)"
   ]
  },
  {
   "cell_type": "code",
   "execution_count": 30,
   "metadata": {},
   "outputs": [
    {
     "data": {
      "image/png": "[encoded data removed]",
      "text/plain": [
       "<Figure size 1440x1080 with 1 Axes>"
      ]
     },
     "metadata": {},
     "output_type": "display_data"
    }
   ],
   "source": [
    "def plot_most_likely(df, n):\n",
    "    most_likely = combined_df.loc[~combined_df.destination.str.contains('To Stay|To Leave|Any')].sort_values(by='probability',ascending=False).head(n)\n",
    "    most_likely['transfer'] = most_likely.player + ' - ' + most_likely['destination']\n",
    "    plt.subplots(figsize=(20,15))\n",
    "    ax = sns.barplot(data=most_likely,y='transfer',x='probability',orient='h')\n",
    "    ax.set_title(f'{n} most likely Transfers \\n',{'fontsize':20})\n",
    "    plt.savefig(f'output/most likely overall.png')\n",
    "    \n",
    "plot_most_likely(combined_df, 30)"
   ]
  },
  {
   "cell_type": "code",
   "execution_count": 17,
   "metadata": {},
   "outputs": [],
   "source": [
    "combined_df.to_csv(f'output/data/{datetime.now().date()}.csv')"
   ]
  },
  {
   "cell_type": "code",
   "execution_count": 18,
   "metadata": {},
   "outputs": [
    {
     "name": "stdout",
     "output_type": "stream",
     "text": [
      "2019-04-17 00:17:22.580309\n"
     ]
    }
   ],
   "source": [
    "print(datetime.now())"
   ]
  }
 ],
 "metadata": {
  "kernelspec": {
   "display_name": "Python 3",
   "language": "python",
   "name": "python3"
  },
  "language_info": {
   "codemirror_mode": {
    "name": "ipython",
    "version": 3
   },
   "file_extension": ".py",
   "mimetype": "text/x-python",
   "name": "python",
   "nbconvert_exporter": "python",
   "pygments_lexer": "ipython3",
   "version": "3.7.1"
  }
 },
 "nbformat": 4,
 "nbformat_minor": 2
}
